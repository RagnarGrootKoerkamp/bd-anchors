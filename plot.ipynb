{
 "cells": [
  {
   "cell_type": "code",
   "execution_count": null,
   "id": "a8e4677c-df42-4ead-a66d-af7d8dc6efa9",
   "metadata": {
    "collapsed": false
   },
   "outputs": [],
   "source": [
    "import json\n",
    "import matplotlib.pyplot as plt\n",
    "import pandas as pd\n",
    "import seaborn as sns\n",
    "import numpy as np\n",
    "from math import log\n",
    "\n",
    "files = ['results_4.json', 'results_256.json']\n",
    "\n",
    "def plot(file):\n",
    "    with open(f'data/{file}', 'r') as f:\n",
    "        data = json.load(f)\n",
    "    df = pd.json_normalize(data)\n",
    "    \n",
    "    # Rename column 'tp.minimizer_type' to 'Minimizer type'\n",
    "    df = df.rename(columns={'tp.minimizer_type': 'Minimizer type'})\n",
    "    # In type column replace minizer value with random minimizer.\n",
    "    df['Minimizer type'] = df['Minimizer type'].replace('Minimizer', 'Random minimizer')\n",
    "    df['Minimizer type'] = df['Minimizer type'].replace('LrMinimizer', 'LR-minimizer')\n",
    "    df['Minimizer type'] = df['Minimizer type'].replace('ModMinimizer', 'Mod-minimizer')\n",
    "    df['Minimizer type'] = df['Minimizer type'].replace('MiniceptionNew', 'Modified miniception')\n",
    "\n",
    "\n",
    "    df = df[df.k >= np.log(df.w)/np.log(df.sigma)]\n",
    "    df['param'] = df['tp.k0'].fillna(0) #+ df['tp.r'].fillna(0)\n",
    "    s = df['sigma'].unique()[0]\n",
    "\n",
    "    # Draw 1.5/(w+1) lines\n",
    "    for w in df.w.unique():\n",
    "        plt.axhline(y=(1.5+1/(2*w))/(w+1), color='black', linewidth=0.5)\n",
    "        plt.axhline(y=(1.5)/(w+0.5), color='blue', linewidth=0.5)\n",
    "        # Add the graph of (k/(k+1))/w:\n",
    "        ks = range(df.k.min(), df.k.max())\n",
    "        plt.plot(ks, [1/w + 1/(w+k) - 1/(w*(w+k)) for k in ks], color='red', linewidth=0.5)\n",
    "    sns.lineplot(x='k', y='density', hue='Minimizer type', size='w', sizes=(1,2), data=df, legend='full', marker='.', dashes=False);\n",
    "    plt.title(f'Minimizer density on random text (alphabet size σ={s}; length=5M)')\n",
    "    plt.xlabel('Kmer length k')\n",
    "    plt.ylabel('Density')\n",
    "    plt.ylim(2**-4.7, 2**-1.95)\n",
    "    # Tick labels 1/4, 1/8, 1/16\n",
    "    plt.yscale('log', base=2)\n",
    "    ws = df.w.unique()\n",
    "    plt.yticks([2/(w+1) for w in ws]+[1.5/(w+0.5) for w in ws],[f'{2/(w+1):.3f}' for w in ws]+[f'{1.5/(w+0.5):.3f}' for w in ws])\n",
    "    plt.xscale('log', base=2)\n",
    "    plt.legend(bbox_to_anchor=(1.02, 1), loc='upper left')\n",
    "    # Add a second legend containing formulas for the red and black lines\n",
    "    plt.text(1.05, 0.3, f'1.5 / (w+0.5)', color='blue', transform=plt.gca().transAxes)\n",
    "    plt.text(1.05, 0.25, f'(1.5+1/(2w)) / (w+1)', color='black', transform=plt.gca().transAxes)\n",
    "    plt.text(1.05, 0.2, f'1/w + 1/(w+k) - 1/(w·(w+k))', color='red', transform=plt.gca().transAxes)\n",
    "\n",
    "    plt.savefig(f'fig/{file}.svg', bbox_inches='tight', dpi = 200)\n",
    "    plt.savefig(f'fig/{file}.png', bbox_inches='tight', dpi = 200)\n",
    "    plt.show()\n",
    "\n",
    "    sns.lineplot(x='k', y='param', hue='tp.minimizer_type', size='w', data=df, legend='full');\n",
    "    plt.title(f'Optimal parameter k0 or r')\n",
    "    plt.xscale('log', base=2)\n",
    "    plt.legend(bbox_to_anchor=(1.02, 1), loc='upper left')\n",
    "    plt.savefig(f'fig/{file}_params.svg', bbox_inches='tight')\n",
    "    plt.show()\n",
    "\n",
    "plot(files[0]);\n",
    "plot(files[1]);\n"
   ]
  }
 ],
 "metadata": {
  "kernelspec": {
   "argv": [
    "python",
    "-m",
    "ipykernel_launcher",
    "-f",
    "{connection_file}"
   ],
   "display_name": "Python 3 (ipykernel)",
   "env": null,
   "interrupt_mode": "signal",
   "language": "python",
   "metadata": {
    "debugger": true
   },
   "name": "python3"
  },
  "language_info": {
   "name": ""
  },
  "name": "plot.ipynb"
 },
 "nbformat": 4,
 "nbformat_minor": 5
}
