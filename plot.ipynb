{
 "cells": [
  {
   "cell_type": "code",
   "execution_count": null,
   "id": "a8e4677c-df42-4ead-a66d-af7d8dc6efa9",
   "metadata": {
    "collapsed": false
   },
   "outputs": [],
   "source": [
    "import json\n",
    "import matplotlib.pyplot as plt\n",
    "import pandas as pd\n",
    "import seaborn as sns\n",
    "import numpy as np\n",
    "from math import log\n",
    "\n",
    "files = ['results_4.json', 'results_16.json', 'results_256.json']\n",
    "\n",
    "def plot(file):\n",
    "    with open(file, 'r') as f:\n",
    "        data = json.load(f)\n",
    "    df = pd.json_normalize(data)\n",
    "\n",
    "    df = df[df.w.isin([8,32,128])]\n",
    "    df = df[df['tp.minimizer_type']!='RobustMinimizer']\n",
    "    df = df[df['tp.minimizer_type']!='BiMinimizer']\n",
    "    df = df[df.k >= np.log(df.w)/np.log(df.sigma)]\n",
    "\n",
    "\n",
    "    sns.lineplot(x='k', y='density', hue='tp.minimizer_type', size='w', data=df, legend='full');\n",
    "    plt.yscale('log', base=2)\n",
    "    plt.xscale('log', base=2)\n",
    "    plt.legend(bbox_to_anchor=(1.02, 1), loc='upper left')\n",
    "    plt.savefig(f'{file}.svg', bbox_inches='tight')\n",
    "    plt.show()\n",
    "\n",
    "plot(files[0]);\n",
    "plot(files[1]);\n",
    "plot(files[2]);\n"
   ]
  }
 ],
 "metadata": {
  "kernelspec": {
   "argv": [
    "python",
    "-m",
    "ipykernel_launcher",
    "-f",
    "{connection_file}"
   ],
   "display_name": "Python 3 (ipykernel)",
   "env": null,
   "interrupt_mode": "signal",
   "language": "python",
   "metadata": {
    "debugger": true
   },
   "name": "python3"
  },
  "language_info": {
   "name": ""
  },
  "name": "plot.ipynb"
 },
 "nbformat": 4,
 "nbformat_minor": 5
}
