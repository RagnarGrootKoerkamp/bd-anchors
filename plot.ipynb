{
 "cells": [
  {
   "cell_type": "code",
   "execution_count": null,
   "id": "a8e4677c-df42-4ead-a66d-af7d8dc6efa9",
   "metadata": {
    "collapsed": false
   },
   "outputs": [],
   "source": [
    "import json\n",
    "import matplotlib.pyplot as plt\n",
    "import pandas as pd\n",
    "import seaborn as sns\n",
    "import numpy as np\n",
    "from math import log\n",
    "\n",
    "files = ['results_4.json', 'results_256.json']\n",
    "\n",
    "def plot(file):\n",
    "    with open(file, 'r') as f:\n",
    "        data = json.load(f)\n",
    "    df = pd.json_normalize(data)\n",
    "\n",
    "    df = df[df['tp.minimizer_type']!='RobustMinimizer']\n",
    "    df = df[df['tp.minimizer_type']!='BiMinimizer']\n",
    "    df = df[df.k >= np.log(df.w)/np.log(df.sigma)]\n",
    "    df['param'] = df['tp.k0'].fillna(0) #+ df['tp.r'].fillna(0)\n",
    "\n",
    "    sns.lineplot(x='k', y='density', hue='tp.minimizer_type', style='sigma', size='w', sizes=(1,2), data=df, legend='full', marker='.', dashes=False);\n",
    "    plt.title(f'Density')\n",
    "    plt.yscale('log', base=2)\n",
    "    plt.xscale('log', base=2)\n",
    "    plt.legend(bbox_to_anchor=(1.02, 1), loc='upper left')\n",
    "    # Draw 1.5/(w+1) lines\n",
    "    for w in df.w.unique():\n",
    "        plt.axhline(y=(1.5+1/(2*w))/(w+1), color='black', linewidth=0.5)\n",
    "        plt.axhline(y=(1.5)/(w+0.5), color='blue', linewidth=0.5)\n",
    "    plt.savefig(f'fig/{file}.svg', bbox_inches='tight', dpi = 200)\n",
    "    plt.savefig(f'fig/{file}.png', bbox_inches='tight', dpi = 200)\n",
    "    plt.show()\n",
    "\n",
    "    sns.lineplot(x='k', y='param', hue='tp.minimizer_type', size='w', data=df, legend='full');\n",
    "    plt.title(f'Optimal parameter k0 or r')\n",
    "    plt.xscale('log', base=2)\n",
    "    plt.legend(bbox_to_anchor=(1.02, 1), loc='upper left')\n",
    "    plt.savefig(f'fig/{file}_params.svg', bbox_inches='tight')\n",
    "    plt.show()\n",
    "\n",
    "plot(files[0]);\n",
    "plot(files[1]);\n"
   ]
  }
 ],
 "metadata": {
  "kernelspec": {
   "argv": [
    "python",
    "-m",
    "ipykernel_launcher",
    "-f",
    "{connection_file}"
   ],
   "display_name": "Python 3 (ipykernel)",
   "env": null,
   "interrupt_mode": "signal",
   "language": "python",
   "metadata": {
    "debugger": true
   },
   "name": "python3"
  },
  "language_info": {
   "name": ""
  },
  "name": "plot.ipynb"
 },
 "nbformat": 4,
 "nbformat_minor": 5
}
